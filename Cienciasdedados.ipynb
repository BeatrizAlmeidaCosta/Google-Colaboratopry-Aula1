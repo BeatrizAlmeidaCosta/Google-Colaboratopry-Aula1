{
  "nbformat": 4,
  "nbformat_minor": 0,
  "metadata": {
    "colab": {
      "provenance": [],
      "authorship_tag": "ABX9TyP0K0/bdB0sPbX4zVj0CQ6A",
      "include_colab_link": true
    },
    "kernelspec": {
      "name": "python3",
      "display_name": "Python 3"
    },
    "language_info": {
      "name": "python"
    }
  },
  "cells": [
    {
      "cell_type": "markdown",
      "metadata": {
        "id": "view-in-github",
        "colab_type": "text"
      },
      "source": [
        "<a href=\"https://colab.research.google.com/github/BeatrizAlmeidaCosta/Google-Colaboratopry-Aula1/blob/main/Cienciasdedados.ipynb\" target=\"_parent\"><img src=\"https://colab.research.google.com/assets/colab-badge.svg\" alt=\"Open In Colab\"/></a>"
      ]
    },
    {
      "cell_type": "code",
      "execution_count": 16,
      "metadata": {
        "colab": {
          "base_uri": "https://localhost:8080/"
        },
        "collapsed": true,
        "id": "tqFcq04ko7uG",
        "outputId": "34151c49-d3c8-4dd6-c5c1-dc41fee234ba"
      },
      "outputs": [
        {
          "output_type": "stream",
          "name": "stdout",
          "text": [
            "24\n",
            "[(0, 2), (1, 3), (2, 3), (3, 3), (4, 2), (5, 3), (6, 2), (7, 2), (8, 3), (9, 1)]\n"
          ]
        }
      ],
      "source": [
        "Usuarios = [\n",
        "{\"id\":0, \"nome\":\"Hero\"},\n",
        "{\"id\":1, \"nome\":\"Dunn\"},\n",
        "{\"id\":2, \"nome\":\"Sue\"},\n",
        "{\"id\":3, \"nome\":\"Chi\"},\n",
        "{\"id\":4, \"nome\":\"Thor\"},\n",
        "{\"id\":5, \"nome\":\"Clive\"},\n",
        "{\"id\":6, \"nome\":\"Hicks\"},\n",
        "{\"id\":7, \"nome\":\"Devin\"},\n",
        "{\"id\":8, \"nome\":\"Kate\"},\n",
        "{\"id\":9, \"nome\":\"Klein\"}\n",
        "             ]\n",
        "\n",
        "pares_deamizade = [(0,1),(0,2),(1,2),(1,3),(2,3),(3,4),(4,5),(5,6),(5,7),(6,8),(7,8),(8,9),]\n",
        "\n",
        "amigos = {usuario[\"id\"]: [] for usuario in Usuarios }\n",
        "\n",
        "for i, j in pares_deamizade:\n",
        "  amigos[i].append(j)\n",
        "  amigos[j].append(i)\n",
        "\n",
        "def numero_de_amigos(usuario):\n",
        "  usuario_id = usuario[\"id\"]\n",
        "  amigos_id = amigos [usuario_id]\n",
        "  return len(amigos_id)\n",
        "\n",
        "total_conexoes = sum(numero_de_amigos(usuario) for usuario in Usuarios)\n",
        "\n",
        "print(total_conexoes)\n",
        "\n",
        "num_amigos_por_id = [(usuario[\"id\"], numero_de_amigos(usuario)) for usuario in Usuarios]\n",
        "\n",
        "print(num_amigos_por_id)"
      ]
    }
  ]
}